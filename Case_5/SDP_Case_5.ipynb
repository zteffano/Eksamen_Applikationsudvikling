{
 "cells": [
  {
   "cell_type": "markdown",
   "id": "81cb79b9",
   "metadata": {},
   "source": [
    "# Case 5 - Cirkel Applikation\n",
    "\n",
    "- Skriv en klasse ved navn Cirkel med attributterne centrum og radius, hvor centrum er et punktobjekt og radius er et tal.\n",
    "- Cirklen skal inkludere en metode point_in_circle, der tager et punkt som et argument og returnerer Sand, hvis punktet ligger inden for eller på grænsen af cirklen. \n",
    "- Programmet accepterer en entry hvor brugeren indtaster cirklens radius og en mus click som cirklens centrum og en anden mus click som et punkt, du tjekker om dette er i cirklen. \n",
    "- Resultatet af point_in_circle funktion og cirklens arealet vises ned på GraphWin.\n",
    "\n",
    "##### Løsningen skal indeholde klasse, funktioner, graphics og software development process samt flowchart af point_in_circle funktion"
   ]
  },
  {
   "cell_type": "markdown",
   "id": "b0ea7041",
   "metadata": {},
   "source": [
    "# Software Development Process\n",
    "\n",
    "1. <b>Analysere problemet</b> - Find ud af præcist, hvilket problem, der skal løses.\n",
    "2. <b>Bestem specifikationer</b> - Beskriv præcist, hvad programmet skal gøre. Beskriv, hvad programmets input og output vil være, og hvordan de relaterer til hinanden.\n",
    "3. <b>Design struktur</b> - Formuler den overordnede struktur af programmet. Design algoritmen eller forretningslogikken.\n",
    "4. <b>Implementer designet</b> - Oversæt designet til et computersprog.\n",
    "5. <b>Test/Debug programmet</b> - Prøv programmet af og se, om det virker som forventet. Hvis der er fejl(bugs), skal disse rettes skal du \n",
    "6. <b>Vedligehold programmet</b> - Fortsæt udviklingen af programmet i forhold til dine brugeres behov."
   ]
  },
  {
   "cell_type": "markdown",
   "id": "d809a9f4",
   "metadata": {},
   "source": [
    "### 1. Analysere problemet\n",
    "1. Lav en applikation hvor brugeren via. et GUI indtaster en radius og klikker på skærmen. \n",
    "2. En cirkel bliver tegnet med centrum, der hvor brugeren klikker og med den angivet radius og arealet af Cirklen bliver vist\n",
    "3. Næste klik returnerer om dette klik er indenfor Cirklen eller på grænsen. Resultatet vises i vores GUI"
   ]
  },
  {
   "cell_type": "markdown",
   "id": "aa773134",
   "metadata": {},
   "source": [
    "### 2. Bestem specifikationer\n",
    "<b>Input -></b> Radius, Klik(Centrum) og Klik(Punkt i cirkel)<br>\n",
    "<b>Output -></b> \n",
    "1. Cirkel tegnet i vinduet, med angivet radius og centrum . \n",
    "2. Areal af den tegnet cirklen\n",
    "3. JA / NEJ alt efter om museklik er indenfor eller udenfor cirklen, når den er tegnet\n"
   ]
  },
  {
   "cell_type": "markdown",
   "id": "eae8d4ea",
   "metadata": {},
   "source": [
    "### 3. Design struktur\n",
    "\n",
    "##### 1. class Cirkel\n",
    "```python\n",
    "class Cirkel:\n",
    "    \n",
    "    def __init__(self,center, radius):\n",
    "        #init af self.center & self.radius\n",
    "        pass\n",
    "        \n",
    "    def point_in_circle(self,point):\n",
    "        #returnere om point er inden for cirklen, der defineret i vores konstruktor\n",
    "        #brug distance formlen til at tjekke om punktet er <= radius \n",
    "        #return True/False\n",
    "        pass\n",
    "    \n",
    "```\n",
    "##### 2. main.py\n",
    "```python\n",
    "from cirkel.py import Cirkel\n",
    "def main():\n",
    "    pass\n",
    "    \n",
    "    #opret af GrapWin\n",
    "    #Set Grid (setCoords)\n",
    "    #TextBox - Gridsize\n",
    "    #Entry -> radius\n",
    "    #Label -> Indtast Radius\n",
    "    #getMouse() -> centrum\n",
    "    #Opret my_circle fra vores Cirkel Klasse med indtastet radius og Centrum\n",
    "    #Tegn cirklen\n",
    "    #TextBox -> Vis Areal af cirklen\n",
    "    #TextBox \"circle_info\"-> \"Klik for at se om punktet er indenfor cirklen\"\n",
    "    #Event-Loop -> Vent på museklik og send punkt til Cirkel.point_in_circle method.\n",
    "    #Event-Loop -> Opdaterer TextBox \"cirle_info\" med resultatet fra point_in_circle\n",
    "    \n",
    "\n",
    "if __name__ == \"__main__\":\n",
    "    main()\n",
    "```\n"
   ]
  },
  {
   "cell_type": "markdown",
   "id": "27963470",
   "metadata": {},
   "source": [
    "### 4. Implementer designet\n",
    "\n"
   ]
  },
  {
   "cell_type": "markdown",
   "id": "3bda3c87",
   "metadata": {},
   "source": [
    "#### - cirkel-py\n",
    "\n"
   ]
  },
  {
   "cell_type": "code",
   "execution_count": 1,
   "id": "760e4e71",
   "metadata": {},
   "outputs": [],
   "source": [
    "## cirkel.py\n",
    "\n",
    "# class Cirkel\n",
    "\n",
    "\n",
    "class Cirkel:\n",
    "    \n",
    "    def __init__(self, center, radius):\n",
    "        \n",
    "        self.center = center\n",
    "        self.radius = radius\n",
    "        \n",
    "        \n",
    "    def point_in_circle(self,point):\n",
    "        \n",
    "        \n",
    "        cx,cy = self.center.getX(), self.center.getY()\n",
    "        px,py = point.getX(), point.getY()\n",
    "        distance = math.sqrt((px - cx)**2 + (py - cy)**2) #Distance formlen -> d = √((x2 - x1)^2 + (y2 - y1)^2)\n",
    "        \n",
    "        return distance <= self.radius # Sandt hvis distance fra vores punkt til centrum er <= radius\n"
   ]
  },
  {
   "cell_type": "markdown",
   "id": "cc0d0d8a",
   "metadata": {},
   "source": [
    "#### - main.py"
   ]
  },
  {
   "cell_type": "code",
   "execution_count": null,
   "id": "65559884",
   "metadata": {},
   "outputs": [],
   "source": [
    "# main.py\n",
    "\n",
    "# tegn cirkel med radius indtast og tryk\n",
    "from graphics import *\n",
    "import math\n",
    "\n",
    "def main():\n",
    "    win = GraphWin(\"Cirkel Applikation\", 400, 400)\n",
    "    win.setCoords(0,0,100,100)\n",
    "    heading = Text(Point(15,95),\"100x100 Grid\").draw(win)\n",
    "    radius = Entry(Point(15,28), 10)\n",
    "    radius.draw(win)\n",
    "    message = Text(Point(15, 20), \"Indtast radius:\")\n",
    "    message.draw(win)\n",
    "    center = win.getMouse()\n",
    "    r = int(radius.getText())\n",
    "    my_circle = Cirkel(center, r) # Our class Cirkel\n",
    "    circle = Circle(center, r) #graphics.py class Circle\n",
    "    circle.draw(win)\n",
    "    center_circ = Text(center,\"x\").draw(win)\n",
    "    info = Text(Point(22,90),f\"Areal af Cirkel: {(3.14159*r):.2f}\").draw(win)\n",
    "    circle_info = Text(Point(40,85),f\"Klik for at se om punktet er indenfor cirklen\").draw(win)\n",
    "    my_click = win.getMouse()\n",
    "    while True:\n",
    "        my_click = win.getMouse()\n",
    "        circle_info.setText(f\"Klik i cirkel: {'JA' if my_circle.point_in_circle(my_click) else 'NEJ'}\")\n",
    "    win.getMouse()\n",
    "    win.close()\n",
    "\n",
    "if __name__ == \"__main__\":\n",
    "    #pass\n",
    "    main()\n",
    "\n",
    "\n"
   ]
  },
  {
   "cell_type": "markdown",
   "id": "b3f294d2",
   "metadata": {},
   "source": [
    "### Test/Debug programmet\n"
   ]
  },
  {
   "cell_type": "code",
   "execution_count": null,
   "id": "20d0f77d",
   "metadata": {},
   "outputs": [],
   "source": [
    "main()\n",
    "#test1,2,3,4,5"
   ]
  },
  {
   "cell_type": "markdown",
   "id": "f3aeb62b",
   "metadata": {},
   "source": [
    "### Vedligehold programmet\n",
    "\n",
    "1. Tegn grid systemet ind visuelt via linjer\n",
    "2. Giv brugeren mulighed for at rense og tegne en ny cirkel\n",
    "3. Gør GUI mere moderne i udseende\n",
    "4. Opret et gui.py til at håndtere alt GUI logik."
   ]
  },
  {
   "cell_type": "code",
   "execution_count": null,
   "id": "1ddef1fd",
   "metadata": {},
   "outputs": [],
   "source": []
  }
 ],
 "metadata": {
  "kernelspec": {
   "display_name": "Python 3 (ipykernel)",
   "language": "python",
   "name": "python3"
  },
  "language_info": {
   "codemirror_mode": {
    "name": "ipython",
    "version": 3
   },
   "file_extension": ".py",
   "mimetype": "text/x-python",
   "name": "python",
   "nbconvert_exporter": "python",
   "pygments_lexer": "ipython3",
   "version": "3.9.12"
  }
 },
 "nbformat": 4,
 "nbformat_minor": 5
}
