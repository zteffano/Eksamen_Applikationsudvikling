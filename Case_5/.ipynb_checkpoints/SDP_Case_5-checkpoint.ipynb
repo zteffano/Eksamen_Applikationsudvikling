{
 "cells": [
  {
   "cell_type": "markdown",
   "id": "81cb79b9",
   "metadata": {},
   "source": [
    "# Case 5 - Cirkel Applikation\n",
    "\n",
    "- Skriv en klasse ved navn Cirkel med attributterne centrum og radius, hvor centrum er et punktobjekt og radius er et tal.\n",
    "- Cirklen skal inkludere en metode point_in_circle, der tager et punkt som et argument og returnerer Sand, hvis punktet ligger inden for eller på grænsen af cirklen. \n",
    "- Programmet accepterer en entry hvor brugeren indtaster cirklens radius og en mus click som cirklens centrum og en anden mus click som et punkt, du tjekker om dette er i cirklen. \n",
    "- Resultatet af point_in_circle funktion og cirklens arealet vises ned på GraphWin.\n",
    "\n",
    "##### Løsningen skal indeholde klasse, funktioner, graphics og software development process samt flowchart af point_in_circle funktion"
   ]
  },
  {
   "cell_type": "markdown",
   "id": "b0ea7041",
   "metadata": {},
   "source": [
    "# Software Development Process\n",
    "\n",
    "1. <b>Analysere problemet</b> - Find ud af præcist, hvilket problem, der skal løses.\n",
    "2. <b>Bestem specifikationer</b> - Beskriv præcist, hvad programmet skal gøre. Beskriv, hvad programmets input og output vil være, og hvordan de relaterer til hinanden.\n",
    "3. <b>Design struktur</b> - Formuler den overordnede struktur af programmet. Design algoritmen eller forretningslogikken.\n",
    "4. <b>Implementer designet</b> - Oversæt designet til et computersprog.\n",
    "5. <b>Test/Debug programmet</b> - Prøv programmet af og se, om det virker som forventet. Hvis der er fejl(bugs), skal disse rettes skal du \n",
    "6. <b>Vedligehold programmet</b> - Fortsæt udviklingen af programmet i forhold til dine brugeres behov."
   ]
  },
  {
   "cell_type": "markdown",
   "id": "d809a9f4",
   "metadata": {},
   "source": [
    "### 1. Analysere problemet\n",
    "1. Lav en applikation hvor brugeren via. et GUI indtaster en radius og klikker på skærmen. \n",
    "2. En cirkel bliver tegnet med centrum, der hvor brugeren klikker og med den angivet radius og arealet af Cirklen bliver vist\n",
    "3. Næste klik returnerer om dette klik er indenfor Cirklen eller på grænsen. Resultatet vises i vores GUI"
   ]
  },
  {
   "cell_type": "markdown",
   "id": "aa773134",
   "metadata": {},
   "source": [
    "### 2. Bestem specifikationer\n",
    "<b>Input -></b> Radius, Klik(Centrum) og Klik(Punkt i cirkel)<br>\n",
    "<b>Output -></b> \n",
    "1. Cirkel tegnet i vinduet, med angivet radius og centrum . \n",
    "2. Areal af den tegnet cirklen\n",
    "3. JA / NEJ alt efter om museklik er indenfor eller udenfor cirklen, når den er tegnet\n"
   ]
  },
  {
   "cell_type": "markdown",
   "id": "eae8d4ea",
   "metadata": {},
   "source": [
    "### 3. Design struktur\n",
    "\n",
    "##### 1. class Cirkel\n",
    "```python\n",
    "class Cirkel:\n",
    "    \n",
    "    def __init__(self,center, radius):\n",
    "        #init af self.center & self.radius\n",
    "        pass\n",
    "        \n",
    "    def point_in_circle(self,point):\n",
    "        #returnere om point er inden for cirklen, der defineret i vores konstruktor\n",
    "        #brug distance formlen til at tjekke om punktet er <= radius \n",
    "        #return True/False\n",
    "        pass\n",
    "    \n",
    "```\n",
    "##### 2. main.py\n",
    "```python\n",
    "from cirkel.py import Cirkel\n",
    "def main():\n",
    "    pass\n",
    "    \n",
    "    #opret af GrapWin\n",
    "    #Set Grid (setCoords)\n",
    "    #TextBox - Gridsize\n",
    "    #Entry -> radius\n",
    "    #Label -> Indtast Radius\n",
    "    #getMouse() -> centrum\n",
    "    #Opret my_circle fra vores Cirkel Klasse med indtastet radius og Centrum\n",
    "    #Tegn cirklen\n",
    "    #TextBox -> Vis Areal af cirklen\n",
    "    #TextBox \"circle_info\"-> \"Klik for at se om punktet er indenfor cirklen\"\n",
    "    #Event-Loop -> Vent på museklik og send punkt til Cirkel.point_in_circle method.\n",
    "    #Event-Loop -> Opdaterer TextBox \"cirle_info\" med resultatet fra point_in_circle\n",
    "    \n",
    "\n",
    "if __name__ == \"__main__\":\n",
    "    main()\n",
    "```\n"
   ]
  },
  {
   "cell_type": "markdown",
   "id": "27963470",
   "metadata": {},
   "source": [
    "### 4. Implementer designet\n",
    "\n"
   ]
  },
  {
   "cell_type": "markdown",
   "id": "3bda3c87",
   "metadata": {},
   "source": [
    "#### - cirkel-py\n",
    "\n"
   ]
  },
  {
   "cell_type": "code",
   "execution_count": 1,
   "id": "760e4e71",
   "metadata": {},
   "outputs": [],
   "source": [
    "## cirkel.py\n",
    "\n",
    "# class Cirkel\n",
    "\n",
    "\n",
    "class Cirkel:\n",
    "    \n",
    "    \"\"\"\n",
    "    Klassen Cirkel repræsenterer en cirkel med et bestemt center og radius.\n",
    "    Center bruges med et Point objekt(graphics.py) og metoderne getX() og getY() kan du returnere x og y koordinaterne. Radius er en int værdi.\n",
    "\n",
    "    Attributter:\n",
    "        center (objekt): Centerpunktet for cirklen med metoderne getX() og getY()\n",
    "        radius (float): Radius på cirklen\n",
    "\n",
    "    Metoder:\n",
    "        point_in_circle(point): Tager et objekt point med metoderne getX() og getY() og returnere sandt hvis point er indenfor cirklens radius, falsk ellers.\n",
    "    \"\"\"\n",
    "    \n",
    "    def __init__(self, center, radius):\n",
    "        \n",
    "        # try/except til at sikre radius korrekt datatype og et positivt tal\n",
    "        try:\n",
    "        \n",
    "            self.radius = int(radius)\n",
    "            if self.radius < 0:\n",
    "                raise ValueError(\"Radius skal være over 0\")\n",
    "            self.center = center\n",
    "\n",
    "        except ValueError as e: # bruger alias til at printe vores ValueError, så vi kan printe begge\n",
    "            print(e)\n",
    "\n",
    "        \n",
    "    # point_in_circle method til at udregne om et punkt er indenfor eller udenfor vores definerede Cirkel objekt    \n",
    "    def point_in_circle(self,point):\n",
    "        \n",
    "        cx,cy = self.center.getX(), self.center.getY()\n",
    "        px,py = point.getX(), point.getY()\n",
    "        distance = math.sqrt((px - cx)**2 + (py - cy)**2) #Distance formlen -> d = √((x2 - x1)^2 + (y2 - y1)^2)\n",
    "        \n",
    "        return distance <= self.radius # Sandt hvis distance fra vores punkt til centrum er <= radius\n",
    "    \n",
    "    def __str__(self):\n",
    "        return f\"Cirkel med radius: {self.radius} og centrum i {self.center.getX(), self.center.getY()}\"\n",
    "    \n",
    "    # getters for radius og center - just in case\n",
    "    def get_r(self):\n",
    "        return self.radius     \n",
    "    \n",
    "    def get_center(self):\n",
    "        return self.center\n",
    "    \n"
   ]
  },
  {
   "cell_type": "markdown",
   "id": "cc0d0d8a",
   "metadata": {},
   "source": [
    "#### - main.py"
   ]
  },
  {
   "cell_type": "code",
   "execution_count": 2,
   "id": "65559884",
   "metadata": {},
   "outputs": [
    {
     "name": "stdout",
     "output_type": "stream",
     "text": [
      "5\n"
     ]
    },
    {
     "ename": "TypeError",
     "evalue": "unsupported operand type(s) for -: 'float' and 'str'",
     "output_type": "error",
     "traceback": [
      "\u001b[1;31m---------------------------------------------------------------------------\u001b[0m",
      "\u001b[1;31mTypeError\u001b[0m                                 Traceback (most recent call last)",
      "Input \u001b[1;32mIn [2]\u001b[0m, in \u001b[0;36m<cell line: 52>\u001b[1;34m()\u001b[0m\n\u001b[0;32m     50\u001b[0m     win\u001b[38;5;241m.\u001b[39mclose() \u001b[38;5;66;03m# ingen effekt - i nuværende kode, bør implementeres i en knap til luk af program i GUI ved næste update\u001b[39;00m\n\u001b[0;32m     52\u001b[0m \u001b[38;5;28;01mif\u001b[39;00m \u001b[38;5;18m__name__\u001b[39m \u001b[38;5;241m==\u001b[39m \u001b[38;5;124m\"\u001b[39m\u001b[38;5;124m__main__\u001b[39m\u001b[38;5;124m\"\u001b[39m:\n\u001b[0;32m     53\u001b[0m     \u001b[38;5;66;03m#pass\u001b[39;00m\n\u001b[1;32m---> 54\u001b[0m     \u001b[43mmain\u001b[49m\u001b[43m(\u001b[49m\u001b[43m)\u001b[49m\n",
      "Input \u001b[1;32mIn [2]\u001b[0m, in \u001b[0;36mmain\u001b[1;34m()\u001b[0m\n\u001b[0;32m     29\u001b[0m \u001b[38;5;28mprint\u001b[39m(my_circle\u001b[38;5;241m.\u001b[39mget_r())\n\u001b[0;32m     31\u001b[0m \u001b[38;5;66;03m# vi henter r, som nu er valideret og korrekte format fra vores Cirkel objekt\u001b[39;00m\n\u001b[0;32m     32\u001b[0m \u001b[38;5;66;03m#r = my_circle.get_r() \u001b[39;00m\n\u001b[0;32m     33\u001b[0m \n\u001b[0;32m     34\u001b[0m \u001b[38;5;66;03m# Vi tegner cirkel i vores GUI - OBS: Circle og Cirkel er 2 forskellige objekter. Circle tilhører graphics.py. Cirkel er vores.\u001b[39;00m\n\u001b[1;32m---> 35\u001b[0m circle \u001b[38;5;241m=\u001b[39m \u001b[43mCircle\u001b[49m\u001b[43m(\u001b[49m\u001b[43mcenter\u001b[49m\u001b[43m,\u001b[49m\u001b[43m \u001b[49m\u001b[43mr\u001b[49m\u001b[43m)\u001b[49m \u001b[38;5;66;03m#graphics.py class Circle\u001b[39;00m\n\u001b[0;32m     36\u001b[0m circle\u001b[38;5;241m.\u001b[39mdraw(win)\n\u001b[0;32m     38\u001b[0m \u001b[38;5;66;03m#markere centrum med x, så det tydeligere visuelt\u001b[39;00m\n",
      "File \u001b[1;32m~\\Mit drev\\1 Semester\\Eksamen_S1\\Case_5\\graphics.py:646\u001b[0m, in \u001b[0;36mCircle.__init__\u001b[1;34m(self, center, radius)\u001b[0m\n\u001b[0;32m    645\u001b[0m \u001b[38;5;28;01mdef\u001b[39;00m \u001b[38;5;21m__init__\u001b[39m(\u001b[38;5;28mself\u001b[39m, center, radius):\n\u001b[1;32m--> 646\u001b[0m     p1 \u001b[38;5;241m=\u001b[39m Point(\u001b[43mcenter\u001b[49m\u001b[38;5;241;43m.\u001b[39;49m\u001b[43mx\u001b[49m\u001b[38;5;241;43m-\u001b[39;49m\u001b[43mradius\u001b[49m, center\u001b[38;5;241m.\u001b[39my\u001b[38;5;241m-\u001b[39mradius)\n\u001b[0;32m    647\u001b[0m     p2 \u001b[38;5;241m=\u001b[39m Point(center\u001b[38;5;241m.\u001b[39mx\u001b[38;5;241m+\u001b[39mradius, center\u001b[38;5;241m.\u001b[39my\u001b[38;5;241m+\u001b[39mradius)\n\u001b[0;32m    648\u001b[0m     Oval\u001b[38;5;241m.\u001b[39m\u001b[38;5;21m__init__\u001b[39m(\u001b[38;5;28mself\u001b[39m, p1, p2)\n",
      "\u001b[1;31mTypeError\u001b[0m: unsupported operand type(s) for -: 'float' and 'str'"
     ]
    }
   ],
   "source": [
    "# main.py\n",
    "\n",
    "# tegn cirkel med radius indtast og tryk\n",
    "from graphics import *\n",
    "import math\n",
    "\n",
    "def main():\n",
    "    #Init af GrapWin objekt samt definering af vores grid 100x100\n",
    "    win = GraphWin(\"Cirkel Applikation\", 400, 400)\n",
    "    win.setCoords(0,0,100,100)\n",
    "    \n",
    "    #Grid info\n",
    "    heading = Text(Point(15,95),\"100x100 Grid\").draw(win)\n",
    "    \n",
    "    #radius input + label i vores GUI\n",
    "    radius = Entry(Point(15,28), 10)\n",
    "    radius.draw(win)\n",
    "    message = Text(Point(15, 20), \"Indtast radius:\")\n",
    "    message.draw(win)\n",
    "    # .getMouse() pauser programmet indtil der kommer et museklik. Dette punkt tildeles til center variablen\n",
    "    center = win.getMouse()\n",
    "    while radius.getText() == \"\":\n",
    "        center = win.getMouse()\n",
    "        \n",
    "    r = radius.getText() # tildeler r det indtastede i radius input felt - r bliver valideret i Cirkel klassen\n",
    "\n",
    "    # med vores radius og center punkt laver vi init af vores Cirkel objekt\n",
    "    my_circle = Cirkel(center, r)\n",
    "    \n",
    "    # vi henter r, som nu er valideret og korrekte format fra vores Cirkel objekt\n",
    "    r = my_circle.get_r() \n",
    "    \n",
    "    # Vi tegner cirkel i vores GUI - OBS: Circle og Cirkel er 2 forskellige objekter. Circle tilhører graphics.py. Cirkel er vores.\n",
    "    circle = Circle(center, r) #graphics.py class Circle\n",
    "    circle.draw(win)\n",
    "    \n",
    "    #markere centrum med x, så det tydeligere visuelt\n",
    "    center_circ = Text(center,\"x\").draw(win)\n",
    "    \n",
    "    #Areal info samt info om du nu kan klikke for at se om fremtidige museklik er indenfor punktet\n",
    "    info = Text(Point(22,90),f\"Areal af Cirkel: {(3.14159*r):.2f}\").draw(win)\n",
    "    circle_info = Text(Point(40,85),f\"Klik for at se om punktet er indenfor cirklen\").draw(win)\n",
    "    \n",
    "    #Starter event loop - som looper indtil vi tvinger et manuelt luk.\n",
    "    while True:\n",
    "        my_click = win.getMouse()\n",
    "        circle_info.setText(f\"Klik i cirkel: {'JA' if my_circle.point_in_circle(my_click) else 'NEJ'}\")\n",
    "    \n",
    "    win.close() # ingen effekt - i nuværende kode, bør implementeres i en knap til luk af program i GUI ved næste update\n",
    "\n",
    "if __name__ == \"__main__\":\n",
    "    #pass\n",
    "    main()\n",
    "\n",
    "\n"
   ]
  },
  {
   "cell_type": "markdown",
   "id": "b3f294d2",
   "metadata": {},
   "source": [
    "### Test/Debug programmet\n"
   ]
  },
  {
   "cell_type": "code",
   "execution_count": null,
   "id": "20d0f77d",
   "metadata": {},
   "outputs": [],
   "source": [
    "main()\n",
    "#test1,2,3,4,5"
   ]
  },
  {
   "cell_type": "markdown",
   "id": "f3aeb62b",
   "metadata": {},
   "source": [
    "### Vedligehold programmet\n",
    "\n",
    "1. Tegn grid systemet ind visuelt via linjer\n",
    "2. Giv brugeren mulighed for at rense og tegne en ny cirkel\n",
    "3. Gør GUI mere moderne i udseende\n",
    "4. Opret et gui.py til at håndtere alt GUI logik."
   ]
  },
  {
   "cell_type": "code",
   "execution_count": null,
   "id": "1ddef1fd",
   "metadata": {},
   "outputs": [],
   "source": []
  }
 ],
 "metadata": {
  "kernelspec": {
   "display_name": "Python 3 (ipykernel)",
   "language": "python",
   "name": "python3"
  },
  "language_info": {
   "codemirror_mode": {
    "name": "ipython",
    "version": 3
   },
   "file_extension": ".py",
   "mimetype": "text/x-python",
   "name": "python",
   "nbconvert_exporter": "python",
   "pygments_lexer": "ipython3",
   "version": "3.9.12"
  }
 },
 "nbformat": 4,
 "nbformat_minor": 5
}
