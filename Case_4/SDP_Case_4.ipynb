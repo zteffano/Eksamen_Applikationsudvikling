{
 "cells": [
  {
   "cell_type": "markdown",
   "id": "0391227c",
   "metadata": {},
   "source": [
    "# Case 4 - Spillekort Applikation\n",
    "\n",
    "#### Implementer en klasse til at repræsentere et spillekort. Din klasse skal have følgende metoder:\n",
    "\n",
    "- __ init _ (selv, rank, suit) rank er et int tal i området 1-13, der angiver rækkerne ’es-konge' \n",
    "- (Ace-King) og suit er et enkelt tegn \"d\" \"c\" \"h\" eller \"s\" der indikerer farven (diamonds, clubs, hearts, or spades).\n",
    "- Opret det tilsvarende kort.\n",
    "- getRank(self) Returnerer kortets rank.\n",
    "- getSuit (self) Returnerer kortets farve.\n",
    "- value(self) Returnerer Blackjack-værdien af et kort. Es tæller som 1, billedkort tæller som 10.\n",
    "- __ str __ (self) Returnerer en streng, der navngiver kortet. For eksempel ‘Ace of Spades’, ‘Ten of Hearts’. Osv.\n",
    "<br>\n",
    "- Test din kortklasse med et program, der udskriver n tilfældige genereret kort og den tilhørende Blackjack-værdi, hvor n er et angivet tal af brugeren.\n",
    "###### Løsningen skal indeholde klasse, funktioner, og software development process samt flowchart af value funktion."
   ]
  },
  {
   "cell_type": "markdown",
   "id": "b0ea7041",
   "metadata": {},
   "source": [
    "# Software Development Process\n",
    "\n",
    "1. <b>Analysere problemet</b> - Find ud af præcist, hvilket problem, der skal løses.\n",
    "2. <b>Bestem specifikationer</b> - Beskriv præcist, hvad programmet skal gøre. Beskriv, hvad programmets input og output vil være, og hvordan de relaterer til hinanden.\n",
    "3. <b>Design struktur</b> - Formuler den overordnede struktur af programmet. Design algoritmen eller forretningslogikken.\n",
    "4. <b>Implementer designet</b> - Oversæt designet til et computersprog.\n",
    "5. <b>Test/Debug programmet</b> - Prøv programmet af og se, om det virker som forventet. Hvis der er fejl(bugs), skal disse rettes skal du \n",
    "6. <b>Vedligehold programmet</b> - Fortsæt udviklingen af programmet i forhold til dine brugeres behov."
   ]
  },
  {
   "cell_type": "markdown",
   "id": "d809a9f4",
   "metadata": {},
   "source": [
    "### 1. Analysere problemet\n",
    "1. Vi skal lave en applikation, der indeholder en klasse der kan repræsenteret et gyldigt spillekort. \n",
    "2. klassen skal kunne konstruere kortet via. et tal der definerer dens \"rang\"(es-konge, 1-13) og dens farve(d,c,h,s)\n",
    "3. klassen skal have methods der returnere oplysninger om kortet:\n",
    " - getRank() -> returnere kortets rang\n",
    " - getSuit() -> returnere kortets farve\n",
    " - value() -> returnere blackjack værdien af vores kort (obs: es tæller kun som 1)\n",
    " - str() -> der returnere kortets navn når vi printer vores kort objekt->  eks: print(kort) -> \"Ace of Spades\" \n",
    "4. En funktion der kan teste vores kort klasse, ved at genererer tilfældige kort og udskrive det og dens blackjack værdi"
   ]
  },
  {
   "cell_type": "markdown",
   "id": "aa773134",
   "metadata": {},
   "source": [
    "### 2. Bestem specifikationer\n",
    "<b>Input -></b> \n",
    "1. Brugeren kan oprette et kort ved at indtaste rang og suit\n",
    "2. Brugeren kan kalde getRank(), getSuit(), value() eller __str__ <br>\n",
    "3. Brugeren kan teste vores kortklasse ved at køre test programmet og indtaste antal kort der skal genereres\n",
    "<b>Output -></b>\n",
    "1. Kortets navn\n",
    "2. Kortets Rang\n",
    "3. Kortets Farve\n",
    "4. Kortets Blackjack Værdi\n",
    "5. Navn og blackværdi på n antal kort \n"
   ]
  },
  {
   "cell_type": "markdown",
   "id": "b26a9cd5",
   "metadata": {},
   "source": [
    "### 3. Design struktur\n",
    "\n",
    "##### 1. Class Card\n",
    " 1. def init \n",
    " 2. def get_rank\n",
    " 3. def get_suit\n",
    " 4. def value\n",
    " 5. def str\n",
    "\n",
    "##### 2. main.py\n",
    " 1. import af Card\n",
    " 2. test_card funktion\n",
    " 3. opret af Event loop i main()\n",
    " 4. Vis muligheder og lad brugeren vælge indtil exit"
   ]
  },
  {
   "cell_type": "markdown",
   "id": "27963470",
   "metadata": {},
   "source": [
    "### 4. Implementer designet\n",
    "\n"
   ]
  },
  {
   "cell_type": "markdown",
   "id": "5cff505e",
   "metadata": {},
   "source": [
    "#### - card-py\n",
    "\n"
   ]
  },
  {
   "cell_type": "code",
   "execution_count": 1,
   "id": "760e4e71",
   "metadata": {},
   "outputs": [],
   "source": [
    "## card.py\n",
    "\n",
    "# Class Card\n",
    "\n",
    "\n",
    "class Card:\n",
    "    \n",
    "    def __init__(self, rank, suit):\n",
    "\n",
    "        assert isinstance(rank,int) and 0 < rank < 14, \"Rank must be a integer between 1 and 13\"\n",
    "        assert suit.lower() in ['d','c','h','s'], \"Suit must be d, c, h or s\"\n",
    " \n",
    "        self.rank = rank \n",
    "        self.suit = suit.lower()\n",
    "        \n",
    "    def get_rank(self):\n",
    "        ranks = [\"Ace\",\"Two\",\"Three\",\"Four\",\"Five\",\"Six\",\"Seven\",\"Eight\",\"Nine\",\"Ten\",\"Jack\",\"Queen\",\"King\"]\n",
    "        return ranks[self.rank-1]\n",
    "    \n",
    "    def get_suit(self):\n",
    "        suits = {\"d\":\"Diamonds\",\"c\":\"Clubs\",\"h\":\"Hearts\",\"s\":\"Spades\"} #dict til navne\n",
    "        return suits[self.suit]\n",
    "    \n",
    "    def value(self):\n",
    "        return 10 if self.rank > 10 else self.rank\n",
    "    \n",
    "    def __str__(self):\n",
    "        return f\"{self.get_rank()} of {self.get_suit()}\""
   ]
  },
  {
   "cell_type": "markdown",
   "id": "cc0d0d8a",
   "metadata": {},
   "source": [
    "#### - main.py"
   ]
  },
  {
   "cell_type": "code",
   "execution_count": 2,
   "id": "65559884",
   "metadata": {},
   "outputs": [],
   "source": [
    "# main.py\n",
    "\n",
    "from random import randint\n",
    "#from card.py import Card\n",
    "\n",
    "def main():\n",
    "    pass\n",
    "\n",
    "def test_card():\n",
    "    \n",
    "    card_range = randint(1,13) #formatted for randint function\n",
    "    suits = ['d','c','h','s']\n",
    "    \n",
    "    try: \n",
    "        n =  int(input(\"How many random cards do you wanna test?\"))\n",
    "        \n",
    "    except ValueError:\n",
    "        print(\"Input must be a integer \")\n",
    "        \n",
    "    for num in range(n):\n",
    "        rank_of_card = randint(1,13)\n",
    "        suit_of_card = suits[randint(0,3)]\n",
    "        our_card = Card(rank_of_card,suit_of_card)\n",
    "        # Cant align with object : Card {our_card} so have to manually concatenate \n",
    "        print(f\"Card: {our_card.get_rank() + ' of ' + our_card.get_suit():<20} Blackjack Value: {our_card.value()}\") # <20 -> align min. 20 width \n",
    "        \n",
    "     \n",
    "\n",
    "if __name__ == \"__main__\":\n",
    "    pass"
   ]
  },
  {
   "cell_type": "markdown",
   "id": "b3f294d2",
   "metadata": {},
   "source": [
    "### Test/Debug programmet\n"
   ]
  },
  {
   "cell_type": "code",
   "execution_count": 3,
   "id": "ed041b28",
   "metadata": {},
   "outputs": [
    {
     "name": "stdout",
     "output_type": "stream",
     "text": [
      "King of Diamonds\n",
      "10\n",
      "King\n",
      "Diamonds\n"
     ]
    }
   ],
   "source": [
    "#Test af class\n",
    "\n",
    "kort = Card(13,\"d\")\n",
    "\n",
    "\n",
    "print(kort)\n",
    "print(kort.value())\n",
    "print(kort.get_rank())\n",
    "print(kort.get_suit())"
   ]
  },
  {
   "cell_type": "code",
   "execution_count": 4,
   "id": "20d0f77d",
   "metadata": {},
   "outputs": [
    {
     "name": "stdout",
     "output_type": "stream",
     "text": [
      "How many random cards do you wanna test?50\n",
      "Card: Ten of Clubs         Blackjack Value: 10\n",
      "Card: King of Hearts       Blackjack Value: 10\n",
      "Card: Three of Spades      Blackjack Value: 3\n",
      "Card: Queen of Hearts      Blackjack Value: 10\n",
      "Card: Queen of Clubs       Blackjack Value: 10\n",
      "Card: Queen of Clubs       Blackjack Value: 10\n",
      "Card: Queen of Spades      Blackjack Value: 10\n",
      "Card: Five of Diamonds     Blackjack Value: 5\n",
      "Card: Six of Hearts        Blackjack Value: 6\n",
      "Card: Eight of Clubs       Blackjack Value: 8\n",
      "Card: Seven of Clubs       Blackjack Value: 7\n",
      "Card: Seven of Clubs       Blackjack Value: 7\n",
      "Card: Four of Spades       Blackjack Value: 4\n",
      "Card: Five of Clubs        Blackjack Value: 5\n",
      "Card: Ace of Clubs         Blackjack Value: 1\n",
      "Card: Ace of Clubs         Blackjack Value: 1\n",
      "Card: Jack of Spades       Blackjack Value: 10\n",
      "Card: Five of Spades       Blackjack Value: 5\n",
      "Card: Seven of Diamonds    Blackjack Value: 7\n",
      "Card: Four of Spades       Blackjack Value: 4\n",
      "Card: Three of Spades      Blackjack Value: 3\n",
      "Card: Queen of Diamonds    Blackjack Value: 10\n",
      "Card: Six of Hearts        Blackjack Value: 6\n",
      "Card: King of Diamonds     Blackjack Value: 10\n",
      "Card: Nine of Spades       Blackjack Value: 9\n",
      "Card: Jack of Diamonds     Blackjack Value: 10\n",
      "Card: Five of Spades       Blackjack Value: 5\n",
      "Card: Seven of Spades      Blackjack Value: 7\n",
      "Card: Ten of Hearts        Blackjack Value: 10\n",
      "Card: Eight of Clubs       Blackjack Value: 8\n",
      "Card: Ten of Diamonds      Blackjack Value: 10\n",
      "Card: Ace of Spades        Blackjack Value: 1\n",
      "Card: Ace of Diamonds      Blackjack Value: 1\n",
      "Card: Ten of Clubs         Blackjack Value: 10\n",
      "Card: Seven of Hearts      Blackjack Value: 7\n",
      "Card: King of Spades       Blackjack Value: 10\n",
      "Card: Nine of Spades       Blackjack Value: 9\n",
      "Card: Two of Clubs         Blackjack Value: 2\n",
      "Card: Six of Diamonds      Blackjack Value: 6\n",
      "Card: Nine of Clubs        Blackjack Value: 9\n",
      "Card: Seven of Hearts      Blackjack Value: 7\n",
      "Card: Nine of Hearts       Blackjack Value: 9\n",
      "Card: Six of Clubs         Blackjack Value: 6\n",
      "Card: Queen of Diamonds    Blackjack Value: 10\n",
      "Card: Two of Clubs         Blackjack Value: 2\n",
      "Card: Five of Clubs        Blackjack Value: 5\n",
      "Card: Seven of Hearts      Blackjack Value: 7\n",
      "Card: Six of Diamonds      Blackjack Value: 6\n",
      "Card: Ten of Clubs         Blackjack Value: 10\n",
      "Card: Queen of Diamonds    Blackjack Value: 10\n"
     ]
    }
   ],
   "source": [
    "# test af program\n",
    "\n",
    "test_card()\n",
    "\n",
    "\n",
    "#test1,2,3,4,5"
   ]
  },
  {
   "cell_type": "markdown",
   "id": "f3aeb62b",
   "metadata": {},
   "source": [
    "### Vedligehold programmet\n",
    "\n",
    "1. Implementerer et GUI med rigtige kort!\n",
    "2. Den totale Blackværdi af x trukket/genereret kort\n",
    "3. funktion til hold eller pull et kort mere(ligesom blackjack)\n",
    "4. Et blackjack minigame\n"
   ]
  },
  {
   "cell_type": "code",
   "execution_count": null,
   "id": "1ddef1fd",
   "metadata": {},
   "outputs": [],
   "source": []
  }
 ],
 "metadata": {
  "kernelspec": {
   "display_name": "Python 3 (ipykernel)",
   "language": "python",
   "name": "python3"
  },
  "language_info": {
   "codemirror_mode": {
    "name": "ipython",
    "version": 3
   },
   "file_extension": ".py",
   "mimetype": "text/x-python",
   "name": "python",
   "nbconvert_exporter": "python",
   "pygments_lexer": "ipython3",
   "version": "3.9.12"
  }
 },
 "nbformat": 4,
 "nbformat_minor": 5
}
