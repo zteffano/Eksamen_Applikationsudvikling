{
 "cells": [
  {
   "cell_type": "markdown",
   "id": "0391227c",
   "metadata": {},
   "source": [
    "# Case 4 - Spillekort Applikation\n",
    "\n",
    "#### Implementer en klasse til at repræsentere et spillekort. Din klasse skal have følgende metoder:\n",
    "\n",
    "- __ init _ (selv, rank, suit) rank er et int tal i området 1-13, der angiver rækkerne ’es-konge' \n",
    "- (Ace-King) og suit er et enkelt tegn \"d\" \"c\" \"h\" eller \"s\" der indikerer farven (diamonds, clubs, hearts, or spades).\n",
    "- Opret det tilsvarende kort.\n",
    "- getRank(self) Returnerer kortets rank.\n",
    "- getSuit (self) Returnerer kortets farve.\n",
    "- value(self) Returnerer Blackjack-værdien af et kort. Es tæller som 1, billedkort tæller som 10.\n",
    "- __ str __ (self) Returnerer en streng, der navngiver kortet. For eksempel ‘Ace of Spades’, ‘Ten of Hearts’. Osv.\n",
    "<br>\n",
    "- Test din kortklasse med et program, der udskriver n tilfældige genereret kort og den tilhørende Blackjack-værdi, hvor n er et angivet tal af brugeren.\n",
    "###### Løsningen skal indeholde klasse, funktioner, og software development process samt flowchart af value funktion."
   ]
  },
  {
   "cell_type": "markdown",
   "id": "b0ea7041",
   "metadata": {},
   "source": [
    "# Software Development Process\n",
    "\n",
    "1. <b>Analysere problemet</b> - Find ud af præcist, hvilket problem, der skal løses.\n",
    "2. <b>Bestem specifikationer</b> - Beskriv præcist, hvad programmet skal gøre. Beskriv, hvad programmets input og output vil være, og hvordan de relaterer til hinanden.\n",
    "3. <b>Design struktur</b> - Formuler den overordnede struktur af programmet. Design algoritmen eller forretningslogikken.\n",
    "4. <b>Implementer designet</b> - Oversæt designet til et computersprog.\n",
    "5. <b>Test/Debug programmet</b> - Prøv programmet af og se, om det virker som forventet. Hvis der er fejl(bugs), skal disse rettes skal du \n",
    "6. <b>Vedligehold programmet</b> - Fortsæt udviklingen af programmet i forhold til dine brugeres behov."
   ]
  },
  {
   "cell_type": "markdown",
   "id": "d809a9f4",
   "metadata": {},
   "source": [
    "### 1. Analysere problemet\n",
    "1. Vi skal lave en applikation, der indeholder en klasse der kan repræsenteret et gyldigt spillekort. \n",
    "2. klassen skal kunne konstruere kortet via. et tal der definerer dens \"rang\"(es-konge, 1-13) og dens farve(d,c,h,s)\n",
    "3. klassen skal have methods der returnere oplysninger om kortet:\n",
    " - getRank() -> returnere kortets rang\n",
    " - getSuit() -> returnere kortets farve\n",
    " - value() -> returnere blackjack værdien af vores kort (obs: es tæller kun som 1)\n",
    " - str() -> der returnere kortets navn når vi printer vores kort objekt->  eks: print(kort) -> \"Ace of Spades\" \n",
    "4. En funktion der kan teste vores kort klasse, ved at genererer tilfældige kort og udskrive det og dens blackjack værdi"
   ]
  },
  {
   "cell_type": "markdown",
   "id": "aa773134",
   "metadata": {},
   "source": [
    "### 2. Bestem specifikationer\n",
    "<b>Input -></b> \n",
    "1. Brugeren kan oprette et kort ved at indtaste rang og suit\n",
    "2. Brugeren kan kalde getRank(), getSuit(), value() eller __str__ <br>\n",
    "3. Brugeren kan teste vores kortklasse ved at køre test programmet og indtaste antal kort der skal genereres\n",
    "<b>Output -></b>\n",
    "1. Kortets navn\n",
    "2. Kortets Rang\n",
    "3. Kortets Farve\n",
    "4. Kortets Blackjack Værdi\n",
    "5. Navn og blackværdi på n antal kort \n"
   ]
  },
  {
   "cell_type": "markdown",
   "id": "b26a9cd5",
   "metadata": {},
   "source": [
    "### 3. Design struktur\n",
    "\n",
    "###### 1. class Card\n",
    "\n",
    "```python\n",
    "class Card:\n",
    "    \n",
    "    def __init__(self, rank, suit):\n",
    "        #init af Card med rank og suit\n",
    "        \n",
    "    def get_rank(self):\n",
    "        #lav liste med alle kort efter rang\n",
    "        #returnere self.rank som index af listen, så det passer\n",
    "        \n",
    "    def get_suit(self):\n",
    "        # lav en dict i format {\"d\":\"Diamonds\", .....}\n",
    "        # return dict[get_suit]\n",
    "        \n",
    "    def value(self):\n",
    "        #returnere blackjack værdi af kort \n",
    "        # self.rank > 10 return 10 ellers self.rank\n",
    "\n",
    "    def __str__(self):\n",
    "        #returnere navnet på kortet i format \"Ace of Spades\"\n",
    "        #Sørg for format er korrekt i get_rank & get_suit, så behøver du kun concat med of imellem og return\n",
    "```\n",
    "\n",
    "##### 2. main.py\n",
    "```\n",
    " 1. import af Card\n",
    " 2. test_card funktion\n",
    "```"
   ]
  },
  {
   "cell_type": "markdown",
   "id": "27963470",
   "metadata": {},
   "source": [
    "### 4. Implementer designet\n",
    "\n"
   ]
  },
  {
   "cell_type": "markdown",
   "id": "5cff505e",
   "metadata": {},
   "source": [
    "#### - card-py\n",
    "\n"
   ]
  },
  {
   "cell_type": "code",
   "execution_count": 21,
   "id": "760e4e71",
   "metadata": {},
   "outputs": [],
   "source": [
    "## card.py\n",
    "\n",
    "# Class Card\n",
    "\n",
    "\n",
    "class Card:\n",
    "    \n",
    "    \"\"\"\n",
    "    Klassen Card repræsenterer et spillekort med et bestemt rang(rank) og et bestemt kulør(suit).\n",
    "    rank kan være mellem 1 og 13, hvor 1 repræsenterer et es.\n",
    "    suit kan være 'd' for diamanter, 'c' for klør, 'h' for hjerter eller 's' for spar.\n",
    "\n",
    "    Attributter:\n",
    "        rank (int): Rang på kortet (1-13)\n",
    "        suit (str): Kulør på kortet ('d', 'c', 'h', 's')\n",
    "\n",
    "    Metoder:\n",
    "        get_rank(): Returnere rang på kortet som en string (\"Ace\", \"Two\", etc.)\n",
    "        get_suit(): Returnere kulør på kortet som en string (\"Diamonds\", \"Clubs\", etc.)\n",
    "        value(): Returnere værdi på kortet i Blackjack (rang > 10 = 10, ellers rang)\n",
    "        __str__(): Returnere kortet som en string i formatet \"Rank of Suit\"\n",
    "    \"\"\"\n",
    "\n",
    "    \n",
    "    def __init__(self, rank, suit):\n",
    "        \n",
    "        # try/except til at catch cast af int, rank-range og suit datatype og suit værdi\n",
    "        try:\n",
    "            if not (isinstance(rank, int) and 0 < rank < 14):\n",
    "                raise ValueError(\"Rank must be a integer between 1 and 13\")\n",
    "            if suit.lower() not in ['d','c','h','s']:\n",
    "                raise ValueError(\"Suit must be d, c, h or s\")\n",
    "            self.rank = rank \n",
    "            self.suit = suit.lower()\n",
    "        except ValueError as e:\n",
    "            print(e)\n",
    "        \n",
    "        except AttributeError:\n",
    "            print(\"Suit must be a string: d, c, h or s\")\n",
    "    \n",
    "    # Returnere rank fra listen ranks via index - 1 (så rækkefølgen passer)\n",
    "    def get_rank(self):\n",
    "        ranks = [\"Ace\",\"Two\",\"Three\",\"Four\",\"Five\",\"Six\",\"Seven\",\"Eight\",\"Nine\",\"Ten\",\"Jack\",\"Queen\",\"King\"]\n",
    "        return ranks[self.rank-1]\n",
    "    \n",
    "    #Hver suits navn er registreret i en dict med d,c,h eller s som key, så det nemt at returnere direkte\n",
    "    def get_suit(self):\n",
    "        suits = {\"d\":\"Diamonds\",\"c\":\"Clubs\",\"h\":\"Hearts\",\"s\":\"Spades\"} #dict til navne\n",
    "        return suits[self.suit]\n",
    "    \n",
    "    # returnere blackjack værdi, dvs. rang > 10 = 10 ellers returnere kortets rang\n",
    "    def value(self):\n",
    "        return 10 if self.rank > 10 else self.rank\n",
    "    \n",
    "    #print af kortets navn i det ønsket format. \"Ace of Spades\"\n",
    "    def __str__(self):\n",
    "        return f\"{self.get_rank()} of {self.get_suit()}\""
   ]
  },
  {
   "cell_type": "markdown",
   "id": "cc0d0d8a",
   "metadata": {},
   "source": [
    "#### - main.py"
   ]
  },
  {
   "cell_type": "code",
   "execution_count": 24,
   "id": "65559884",
   "metadata": {},
   "outputs": [],
   "source": [
    "# main.py\n",
    "\n",
    "from random import randint\n",
    "#from card.py import Card\n",
    "\n",
    "def main():\n",
    "        \n",
    "    pass\n",
    "\n",
    "def test_card():\n",
    "    \n",
    "    \"\"\"test_card(): Genererer n tilfældige kort og returnerer kortets navn og blackjack værdi, n tildeles i input prompt \"\"\"\n",
    "    \n",
    "    suits = ['d','c','h','s']\n",
    "    \n",
    "    try: \n",
    "        n =  int(input(\"How many random cards do you wanna test?\"))\n",
    "        \n",
    "    except ValueError:\n",
    "        print(\"Input must be a integer \")\n",
    "        \n",
    "    for num in range(n):\n",
    "        rank_of_card = randint(1,13) # tfifældig rang fra 1-13 \n",
    "        suit_of_card = suits[randint(0,3)] #tlifældig suit fra vores suit liste efter index\n",
    "        our_card = Card(rank_of_card,suit_of_card) # init af Card objekt\n",
    "        \n",
    "        # Kan ikke align med selve objektet, så laver concat manuelt i min f-string\n",
    "        print(f\"Card: {our_card.get_rank() + ' of ' + our_card.get_suit():<20} Blackjack Value: {our_card.value()}\") # <20 -> align min. 20 width \n",
    "        \n",
    "     \n",
    "\n",
    "if __name__ == \"__main__\":\n",
    "    pass"
   ]
  },
  {
   "cell_type": "markdown",
   "id": "b3f294d2",
   "metadata": {},
   "source": [
    "### Test/Debug programmet\n"
   ]
  },
  {
   "cell_type": "code",
   "execution_count": 23,
   "id": "ed041b28",
   "metadata": {},
   "outputs": [
    {
     "name": "stdout",
     "output_type": "stream",
     "text": [
      "Suit must be d, c, h or s\n"
     ]
    }
   ],
   "source": [
    "#Test af class\n",
    "\n",
    "kort = Card(13,\"2\")\n",
    "\n",
    "\n",
    "#print(kort)\n",
    "#print(kort.value())\n",
    "#print(kort.get_rank())\n",
    "#print(kort.get_suit())"
   ]
  },
  {
   "cell_type": "code",
   "execution_count": 25,
   "id": "20d0f77d",
   "metadata": {},
   "outputs": [
    {
     "name": "stdout",
     "output_type": "stream",
     "text": [
      "How many random cards do you wanna test?-2\n"
     ]
    }
   ],
   "source": [
    "# test af program\n",
    "\n",
    "test_card()\n",
    "\n",
    "\n",
    "#test1,2,3,4,5"
   ]
  },
  {
   "cell_type": "markdown",
   "id": "f3aeb62b",
   "metadata": {},
   "source": [
    "### Vedligehold programmet\n",
    "\n",
    "1. Implementerer et GUI med rigtige kort!\n",
    "2. Den totale Blackværdi af x trukket/genereret kort\n",
    "3. funktion til hold eller pull et kort mere(ligesom blackjack)\n",
    "4. Et blackjack minigame\n"
   ]
  },
  {
   "cell_type": "code",
   "execution_count": null,
   "id": "1ddef1fd",
   "metadata": {},
   "outputs": [],
   "source": []
  }
 ],
 "metadata": {
  "kernelspec": {
   "display_name": "Python 3 (ipykernel)",
   "language": "python",
   "name": "python3"
  },
  "language_info": {
   "codemirror_mode": {
    "name": "ipython",
    "version": 3
   },
   "file_extension": ".py",
   "mimetype": "text/x-python",
   "name": "python",
   "nbconvert_exporter": "python",
   "pygments_lexer": "ipython3",
   "version": "3.9.12"
  }
 },
 "nbformat": 4,
 "nbformat_minor": 5
}
