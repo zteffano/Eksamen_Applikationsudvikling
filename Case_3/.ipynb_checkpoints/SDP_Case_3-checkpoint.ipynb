{
 "cells": [
  {
   "cell_type": "markdown",
   "id": "14a63e05",
   "metadata": {},
   "source": [
    "# Case 3 - Konference applikation\n",
    "\n",
    "1. Skriv et program for at holde styr på konferencedeltagere. \n",
    "2. For hver deltager, dit program skal holde styr på navn, virksomhed, by og e-mailadresse.\n",
    "3. Dit program bør give brugerne mulighed for at gøre ting såsom:\n",
    " - at tilføje en ny deltager\n",
    " - vis oplysninger om en deltager\n",
    " - slet en deltager\n",
    " - liste over navne\n",
    " - e-mailadresser på alle deltagere\n",
    " - angiv navne og e-mailadresser på alle deltagere fra en given by. \n",
    "\n",
    "4. Deltagerlisten skal være gemt i en fil og indlæst, når programmet starter. \n",
    "5. Tilføjelse af en ny deltager afvises ved ukorrekt e-mailadresse form.\n",
    "\n",
    "##### Løsningen skal indeholde klasse, funktioner, og software development process samt flowchart af tjek_e_mail funktion."
   ]
  },
  {
   "cell_type": "markdown",
   "id": "b0ea7041",
   "metadata": {},
   "source": [
    "# Software Development Process\n",
    "\n",
    "1. <b>Analysere problemet</b> - Find ud af præcist, hvilket problem, der skal løses.\n",
    "2. <b>Bestem specifikationer</b> - Beskriv præcist, hvad programmet skal gøre. Beskriv, hvad programmets input og output vil være, og hvordan de relaterer til hinanden.\n",
    "3. <b>Design struktur</b> - Formuler den overordnede struktur af programmet. Design algoritmen eller forretningslogikken.\n",
    "4. <b>Implementer designet</b> - Oversæt designet til et computersprog.\n",
    "5. <b>Test/Debug programmet</b> - Prøv programmet af og se, om det virker som forventet. Hvis der er fejl(bugs), skal disse rettes skal du \n",
    "6. <b>Vedligehold programmet</b> - Fortsæt udviklingen af programmet i forhold til dine brugeres behov."
   ]
  },
  {
   "cell_type": "markdown",
   "id": "d809a9f4",
   "metadata": {},
   "source": [
    "### 1. Analysere problemet\n",
    "1. Vi skal lave en applikation til at håndterer deltagerliste til en konference\n",
    "2. Vi skal kunne tilføje, hente, slette oplysninger om deltagerne \n",
    "3. Vi skal kunne hente liste over navne, email adresser og hente navne og email fra en specifik by\n",
    "4. deltagerlisten skal håndteres i en fil, gemt lokalt\n",
    "5. Emailformatet på deltagerne skal valideres, inden deltageren kan oprettes."
   ]
  },
  {
   "cell_type": "markdown",
   "id": "aa773134",
   "metadata": {},
   "source": [
    "### 2. Bestem specifikationer\n",
    "<b>Input -></b> \n",
    "1. new_attendee -> Navn, email, virksomhed og by på deltager der ønskes tilføjet\n",
    "2. get_attendees -> by(city) eller navn(name) hvis du vil have specifikke deltagere\n",
    "3. delete_attendee -> Input af fulde navn på deltager der skal fjernes\n",
    "4. Conference(name= \"Min Konference\", filename=xxxxx.json) -> det vil være muligt optionelt, at definere sin egen lokal fil, der er oprettet<br>\n",
    "\n",
    "<b>Output -></b>\n",
    "1. Velkomst besked ved oprettelse af Conference obj og en deltager liste, hvis der eksisterer deltager allerede\n",
    "2. Bekræftigelse eller specifikke fejlmeddelser i følgende methods(new_attendee, delete_attendee)\n",
    "3. Returnering af alle deltagere eller specifikke hvis city eller name er definereret i get_attendees\n"
   ]
  },
  {
   "cell_type": "markdown",
   "id": "b26a9cd5",
   "metadata": {},
   "source": [
    "### 3. Design struktur\n",
    "\n",
    "##### 1. Class Conference\n",
    "\n",
    "```python\n",
    "class Conference:\n",
    "    \n",
    "    def __init__(self, name, filename):\n",
    "        # init af navn på Konference og optional filename\n",
    "        pass\n",
    "    \n",
    "    def welcome(self):\n",
    "        #velkommen funktion der angiver deltagerliste hvis konferencen allerede er oprettet\n",
    "        #hvis ikke så skriv information om hvordan\n",
    "    \n",
    "\n",
    "\n",
    "```\n",
    " 1. def init \n",
    " 2. def welcome\n",
    " 3. def new_conference\n",
    " 4. def load_db\n",
    " 5. def save_db\n",
    " 6. def new_attendee\n",
    " 7. def get_attendees\n",
    " 8. def delete_attendee\n",
    "\n",
    "##### 2. Class Attendee\n",
    " 1. def init\n",
    " 2. def validate_email\n",
    " 3. def str \n",
    " \n",
    "##### 3. main.py\n",
    " 1. import af Conference & Attendee\n",
    " 2. opret af Event loop i main()\n",
    " 3. Vis muligheder og lad brugeren vælge indtil exit"
   ]
  },
  {
   "cell_type": "markdown",
   "id": "27963470",
   "metadata": {},
   "source": [
    "### 4. Implementer designet\n",
    "\n"
   ]
  },
  {
   "cell_type": "markdown",
   "id": "3bda3c87",
   "metadata": {},
   "source": [
    "#### - conference.py\n",
    "\n"
   ]
  },
  {
   "cell_type": "code",
   "execution_count": 60,
   "id": "4fd3a53d",
   "metadata": {},
   "outputs": [],
   "source": [
    "import json\n",
    "\n",
    "\"\"\"\n",
    "deltagere.json format:\n",
    "{\n",
    "    \"PythonDK\": {\n",
    "        \"attendees\": [\n",
    "            {\n",
    "                \"name\": \"Hans Jensen\",\n",
    "                \"email\": \"supermand@mail.dk\",\n",
    "                \"company\": \"Novo Fjordisk\",\n",
    "                \"city\": \"Aalborg\"\n",
    "            },\n",
    "            {\n",
    "                \"name\": \"Svend Hansen\",\n",
    "                \"email\": \"svend@mail.dk\",\n",
    "                \"company\": \"Carlsborg\",\n",
    "                \"city\": \"København\"\n",
    "            }\n",
    "        ]\n",
    "    }\n",
    "}\n",
    "\n",
    "\"\"\"\n",
    "\n",
    "\n",
    "#class Conference\n",
    "class Conference:\n",
    "\n",
    "    def __init__(self, name, filename=\"deltagere.json\"):\n",
    "\n",
    "        self.name = name\n",
    "        self.filename = filename\n",
    "        self.db = self.load_db()\n",
    "        try: \n",
    "            self.attendees = self.db[name][\"attendees\"]\n",
    "        except KeyError:\n",
    "            self.attendees = self.new_conference()\n",
    "        \n",
    "        finally:\n",
    "            self.welcome()\n",
    "        \n",
    "\n",
    "    def welcome(self):\n",
    "\n",
    "            print(\"Velkommen til \" + self.name + \" konferencen!\")\n",
    "            print(\"Nuværende deltager er:\")\n",
    "            \n",
    "            if len(self.attendees) > 1:    \n",
    "                for attendee in self.attendees:\n",
    "                    print(f\"{attendee['name']} fra {attendee['company']} i {attendee['city']}\")\n",
    "            else:\n",
    "                print(\"Ingen endnu!\")\n",
    "                print(f'Der kan tilføjes deltager ved input af Conference(\"Dit Navn\",\"Email@email.dk\",\"Din Virksomhed\",\"Din By\"')\n",
    "    \n",
    "            \n",
    "    def new_conference(self):\n",
    "        return {self.name:{\"attendees\": [{}]}}\n",
    " \n",
    "            \n",
    "    def load_db(self):\n",
    "        try:\n",
    "            with open(self.filename, \"r\") as f:\n",
    "                return json.load(f)\n",
    "        except FileNotFoundError as e:\n",
    "            raise FileNotFoundError(f\"Kan ikke finde fil: {self.filename}\") from e\n",
    "\n",
    "    def save_db(self):\n",
    "        with open(self.filename, \"w\") as f:\n",
    "            json.dump(self.db, f, indent=4)\n",
    "\n",
    "    def new_attendee(self, name, email, company, city): # Kunne godt bruge et tjek for at se om deltagere allerede eksisterer\n",
    "        attendee = Attendee(name, email, company, city)\n",
    "        self.attendees.append(attendee.__dict__) ## obj.__dict__ appender i korrekt dict format\n",
    "        print(f\"{name} er tilføjet til konferencen: {self.name}\\nemail:{email}\\nvirksomhed:{company}\\nBy:{city}\")\n",
    "        self.save_db()\n",
    "\n",
    "    def get_attendees(self, city=None, name=None):\n",
    "        \n",
    "        try:\n",
    "            if city:\n",
    "                return [attendee[\"name\"] + \" <\" + attendee[\"email\"] + \">\" for attendee in self.attendees if attendee[\"city\"] == city]\n",
    "            if name:\n",
    "                return [f\"{attendee['name']} fra {attendee['company']} i {attendee['city']}\" for attendee in self.attendees if attendee[\"name\"] == name]\n",
    "            return [attendee[\"name\"] + \" <\" + attendee[\"email\"] + \">\" for attendee in self.attendees]\n",
    "        except TypeError:\n",
    "            print(\"Deltager listen er tom\")\n",
    "\n",
    "    def delete_attendee(self, name):\n",
    "        #print(self.attendees)\n",
    "        if self.attendees == [attendee for attendee in self.attendees if attendee[\"name\"] != name]:\n",
    "            print(f\"Der findes ingen med det fulde navn: {name}\")\n",
    "        else:\n",
    "            self.attendees = [attendee for attendee in self.attendees if attendee[\"name\"] != name]\n",
    "            print(f\"{name} er fjernet fra konferencen: {self.name}\")\n",
    "            self.save_db()\n",
    "\n",
    "#Class Attendee\n",
    "\n",
    "class Attendee:\n",
    "\n",
    "    def __init__(self, name, email, company, city):\n",
    "        self.name = name\n",
    "        self.email = self.validate_email(email)\n",
    "        self.company = company\n",
    "        self.city = city\n",
    "\n",
    "    def validate_email(self, mail):\n",
    "        if \"@\" in mail and \".\" in mail:\n",
    "            return mail\n",
    "        else:\n",
    "            raise SyntaxError(\"Ugyldig email - mangler @ eller .\")\n",
    "\n",
    "    def __str__(self):\n",
    "        return f\"Navn: {self.name}, Email: {self.email}, Virksomhed: {self.company}, By: {self.city}\"\n",
    "    \n",
    "    "
   ]
  },
  {
   "cell_type": "markdown",
   "id": "cc0d0d8a",
   "metadata": {},
   "source": [
    "#### - main.py"
   ]
  },
  {
   "cell_type": "code",
   "execution_count": null,
   "id": "65559884",
   "metadata": {},
   "outputs": [],
   "source": [
    "# main.py\n",
    "\n",
    "from conference.py import Conference, Attendee\n",
    "\n",
    "def main():\n",
    "    \n",
    "    \n",
    "\n",
    "\n",
    "\n",
    "if __name__ == \"__main__\":\n",
    "    pass\n"
   ]
  },
  {
   "cell_type": "markdown",
   "id": "b3f294d2",
   "metadata": {},
   "source": [
    "### Test/Debug programmet\n"
   ]
  },
  {
   "cell_type": "code",
   "execution_count": 62,
   "id": "20d0f77d",
   "metadata": {},
   "outputs": [
    {
     "name": "stdout",
     "output_type": "stream",
     "text": [
      "Velkommen til Min Konference konferencen!\n",
      "Nuværende deltager er:\n",
      "Ingen endnu!\n",
      "Der kan tilføjes deltager ved input af Conference(\"Dit Navn\",\"Email@email.dk\",\"Din Virksomhed\",\"Din By\"\n"
     ]
    }
   ],
   "source": [
    "kon = Conference(\"Min Konference\")\n",
    "#kon.delete_attendee(\"Hans\")\n",
    "#konference.save_db()\n",
    "#kon.new_attendee(\"Steffan Nielsen\",\"stef833@piba.dk\",\"IBA\", \"Vejle\")\n",
    "#print(kon.attendees)\n",
    "#test1,2,3,4,5"
   ]
  },
  {
   "cell_type": "markdown",
   "id": "f3aeb62b",
   "metadata": {},
   "source": [
    "### Vedligehold programmet\n",
    "\n",
    "1. Implementerer et GUI til håndteringen af konference deltagere\n",
    "2. Lav en Class til at håndtere dataen i en SQL database som en mulighed\n",
    "3. Optimering af koden\n",
    "4. Tilføj flere søge/filter muligheder"
   ]
  },
  {
   "cell_type": "code",
   "execution_count": null,
   "id": "1ddef1fd",
   "metadata": {},
   "outputs": [],
   "source": []
  }
 ],
 "metadata": {
  "kernelspec": {
   "display_name": "Python 3 (ipykernel)",
   "language": "python",
   "name": "python3"
  },
  "language_info": {
   "codemirror_mode": {
    "name": "ipython",
    "version": 3
   },
   "file_extension": ".py",
   "mimetype": "text/x-python",
   "name": "python",
   "nbconvert_exporter": "python",
   "pygments_lexer": "ipython3",
   "version": "3.9.12"
  }
 },
 "nbformat": 4,
 "nbformat_minor": 5
}
