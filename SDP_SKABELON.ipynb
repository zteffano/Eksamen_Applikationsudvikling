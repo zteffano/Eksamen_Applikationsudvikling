{
 "cells": [
  {
   "cell_type": "markdown",
   "id": "91212d73",
   "metadata": {},
   "source": [
    "# CASE BESKRIVELSE:\n",
    "\n",
    "Du skal gøre X med Y og Z med D"
   ]
  },
  {
   "cell_type": "markdown",
   "id": "b0ea7041",
   "metadata": {},
   "source": [
    "# Software Development Process\n",
    "\n",
    "1. <b>Analysere problemet</b> - Find ud af præcist, hvilket problem, der skal løses.\n",
    "2. <b>Bestem specifikationer</b> - Beskriv præcist, hvad programmet skal gøre. Beskriv, hvad programmets input og output vil være, og hvordan de relaterer til hinanden.\n",
    "3. <b>Design struktur</b> - Formuler den overordnede struktur af programmet. Design algoritmen eller forretningslogikken.\n",
    "4. <b>Implementer designet</b> - Oversæt designet til et computersprog.\n",
    "5. <b>Test/Debug programmet</b> - Prøv programmet af og se, om det virker som forventet. Hvis der er fejl(bugs), skal disse rettes skal du \n",
    "6. <b>Vedligehold programmet</b> - Fortsæt udviklingen af programmet i forhold til dine brugeres behov."
   ]
  },
  {
   "cell_type": "markdown",
   "id": "d809a9f4",
   "metadata": {},
   "source": [
    "### 1. Analysere problemet\n",
    "X"
   ]
  },
  {
   "cell_type": "markdown",
   "id": "aa773134",
   "metadata": {},
   "source": [
    "### 2. Bestem specifikationer\n",
    "<b>Input -></b> X<br>\n",
    "<b>Output -></b> X\n"
   ]
  },
  {
   "cell_type": "markdown",
   "id": "b26a9cd5",
   "metadata": {},
   "source": [
    "### 3. Design struktur\n",
    "\n",
    "1. X\n",
    "2. X\n",
    "3. X"
   ]
  },
  {
   "cell_type": "markdown",
   "id": "27963470",
   "metadata": {},
   "source": [
    "### 4. Implementer designet\n",
    "\n"
   ]
  },
  {
   "cell_type": "code",
   "execution_count": null,
   "id": "0392aea9",
   "metadata": {},
   "outputs": [],
   "source": [
    "main():\n",
    "    print(\"Hello World\")"
   ]
  },
  {
   "cell_type": "markdown",
   "id": "b3f294d2",
   "metadata": {},
   "source": [
    "### Test/Debug programmet\n"
   ]
  },
  {
   "cell_type": "code",
   "execution_count": null,
   "id": "20d0f77d",
   "metadata": {},
   "outputs": [],
   "source": [
    "main()"
   ]
  },
  {
   "cell_type": "markdown",
   "id": "f3aeb62b",
   "metadata": {},
   "source": [
    "### Vedligehold programmet\n",
    "\n",
    "1. Implementerer X\n",
    "2. Ret Y\n",
    "3. Udvid Z\n",
    "4. Tilføj A"
   ]
  }
 ],
 "metadata": {
  "kernelspec": {
   "display_name": "Python 3 (ipykernel)",
   "language": "python",
   "name": "python3"
  },
  "language_info": {
   "codemirror_mode": {
    "name": "ipython",
    "version": 3
   },
   "file_extension": ".py",
   "mimetype": "text/x-python",
   "name": "python",
   "nbconvert_exporter": "python",
   "pygments_lexer": "ipython3",
   "version": "3.9.12"
  }
 },
 "nbformat": 4,
 "nbformat_minor": 5
}
