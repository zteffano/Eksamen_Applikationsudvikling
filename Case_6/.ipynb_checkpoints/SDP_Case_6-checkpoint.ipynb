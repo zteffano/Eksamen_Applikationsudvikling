{
 "cells": [
  {
   "cell_type": "markdown",
   "id": "26647868",
   "metadata": {},
   "source": [
    "# Case 6 - Terning Applikation\n",
    "\n",
    "- Opret en klasse, der repræsenterer en terning. Dens egenskaber skal være:\n",
    "1. En typeegenskab, der fortæller, hvor mange ansigter terningen har. \n",
    "2. En værdiattribut, der afspejler den aktuelle værdi af terningen. Dette ændres, når terningen slås. \n",
    "3. En låseegenskab. \n",
    "4. En boolsk værdi, der fortæller, om terningen vil deltage i det næste kast.\n",
    "\n",
    "- Klassen skal mindst have følgende metoder:\n",
    "1. En konstruktør. \n",
    "2. En metode, der låser terningen, hvis den ikke er det, og låser den op, hvis den er det. \n",
    "3. En metode, der returnerer den låste status.\n",
    "4. En metode roll_dice der tager n (n >100), som hvor mange gange terningen skal slås og returnerer hvor mange etter, tor, osv. \n",
    "5. En metode til at slå terningen, hvis den ikke er låst.\n",
    "\n",
    "##### Løsningen skal indeholde klasse, funktioner og software development process samt flowchart af roll_dice funktion."
   ]
  },
  {
   "cell_type": "markdown",
   "id": "b0ea7041",
   "metadata": {},
   "source": [
    "# Software Development Process\n",
    "\n",
    "1. <b>Analysere problemet</b> - Find ud af præcist, hvilket problem, der skal løses.\n",
    "2. <b>Bestem specifikationer</b> - Beskriv præcist, hvad programmet skal gøre. Beskriv, hvad programmets input og output vil være, og hvordan de relaterer til hinanden.\n",
    "3. <b>Design struktur</b> - Formuler den overordnede struktur af programmet. Design algoritmen eller forretningslogikken.\n",
    "4. <b>Implementer designet</b> - Oversæt designet til et computersprog.\n",
    "5. <b>Test/Debug programmet</b> - Prøv programmet af og se, om det virker som forventet. Hvis der er fejl(bugs), skal disse rettes skal du \n",
    "6. <b>Vedligehold programmet</b> - Fortsæt udviklingen af programmet i forhold til dine brugeres behov."
   ]
  },
  {
   "cell_type": "markdown",
   "id": "d809a9f4",
   "metadata": {},
   "source": [
    "### 1. Analysere problemet\n",
    "1. Lav en applikation der via. en klasse kan oprettet og håndterer et Terning objekt med specifikke egenskaber\n",
    "2. Terningen skal kunne oprettes med en angivet type(antal ansigter) som kan slåes\n",
    "3. Terningen skal kunne låses og oplåses via. en funktion, der oplåser hvis den er låst og omvendt.\n",
    "4. Terningen skal have en boolsk værdi der angiver om den skal deltage i næste kast\n",
    "5. Det skal være muligt at se om terningen er låst via. en method\n",
    "6. Terningen skal have en method til at slå 1 gang(hvis den ikke er låst)\n",
    "7. Terningen skal have en method til at slå n antal gange(defineret af brugeren) og der returneres udfaldet af slagene pr. ansigt\n"
   ]
  },
  {
   "cell_type": "markdown",
   "id": "aa773134",
   "metadata": {},
   "source": [
    "### 2. Bestem specifikationer\n",
    "<b>Input -></b> Terningens type, lås/oplås terning, slå terning 1 gang, slå terning n gange, status på lås<br>\n",
    "<b>Output -></b> Terningens værdi ved 1 kast, låsestatus, Terningens udfald ved n-kast\n"
   ]
  },
  {
   "cell_type": "markdown",
   "id": "b26a9cd5",
   "metadata": {},
   "source": [
    "### 3. Design struktur\n",
    "\n",
    "##### 1. class Dice\n",
    "```python\n",
    "class Dice:\n",
    "    \n",
    "    def __init__(self, dice_type, locked=False):\n",
    "        #init af type , optional Locked\n",
    "        self.type = dice_type\n",
    "        self.value = None\n",
    "        self.locked = locked\n",
    "        self.ready = !self.locked\n",
    "        \n",
    "    def get_value(self)\n",
    "        # returnere værdien af terningen hvis ikke None ellers retunere ingen værdi med info til brugeren\n",
    "    \n",
    "    def switch_lock(self):\n",
    "        # skift låst status: self.locked = !self.locked\n",
    "        pass\n",
    "\n",
    "\n",
    "    def is_locked(self):\n",
    "        #returnere status på om terningen er låst\n",
    "        pass\n",
    "    \n",
    "    def roll_dice_multi(self, n):\n",
    "        #import randint fra random\n",
    "        #try/except bruger input\n",
    "        #opret list til at holde styr på udfald af slag , list længde = type\n",
    "        #brug randint til at genererer et tilfældigt tal fra 0 -> self.type-1 og += til index, så index tal fungere som et udfald\n",
    "        #formaterer resultatet og print til brugeren i et letlæseligt format\n",
    "        pass\n",
    "    \n",
    "    def roll_dice(self):\n",
    "        # hvis ikke terningen er låst\n",
    "        # Kast terningen via. randint \n",
    "        # self.value = randint(1, self.type)\n",
    "        # return self.value\n",
    "        pass\n",
    "    \n",
    "    def __str__(self):\n",
    "        # returnere en string med oplysninger om terningens egenskaber\n",
    "        pass\n",
    "    \n",
    "```\n"
   ]
  },
  {
   "cell_type": "markdown",
   "id": "27963470",
   "metadata": {},
   "source": [
    "### 4. Implementer designet\n",
    "\n"
   ]
  },
  {
   "cell_type": "markdown",
   "id": "3bda3c87",
   "metadata": {},
   "source": [
    "#### - dice.py\n",
    "\n"
   ]
  },
  {
   "cell_type": "code",
   "execution_count": null,
   "id": "760e4e71",
   "metadata": {},
   "outputs": [],
   "source": [
    "## dice.py\n",
    "\n",
    "from random import randint\n",
    "# class Dice(Terning)\n",
    "\n",
    "\n",
    "class Dice:\n",
    "    \n",
    "    # Docstring\n",
    "    \"\"\"\n",
    "    Klassen Dice repræsenterer en terning med et bestemt antal sider og en optional \"locked\" status.\n",
    "    Dice_type er en integer der definerer siderne på terningen, locked er en boolsk værdi (default False) som angiver om terningen er låst eller ej.\n",
    "    \n",
    "    Attributter:\n",
    "        type (int): Antallet af sider på terningen\n",
    "        value (int): Nuværende værdi på terningen\n",
    "        locked (bool): Angiver om terningen er låst eller ej\n",
    "        ready (bool): Angiver om terningen er klar til at blive kastet\n",
    "\n",
    "    Metoder:\n",
    "        get_value(): Returnere nuværende værdi på terningen eller beskeden \"Ingen værdi - Terningen er ikke blevet slået endnu\"\n",
    "        switch_lock(): Skifter terningens låst status og printer beskeden \"Terningen er nu: Låst/oplåst og klar!\"\n",
    "        is_locked(): Returnere terningens låst status\n",
    "        roll_dice_multi(n): Tager en integer n som input, kaster terningen n gange og printer resultatet\n",
    "        roll_dice(): Kaster terningen én gang, returnere værdien og sætter den som nuværende værdi\n",
    "        __str__(): Returnere en string med terningens type, nuværende værdi og status.\n",
    "    \"\"\"\n",
    "\n",
    "    # init af Dice - tager 1 argument dice_type(int) og optional locked, default False\n",
    "    def __init__(self, dice_type, locked=False):\n",
    "    \n",
    "        try:\n",
    "            self.type = int(dice_type)\n",
    "            if self.type < 1:\n",
    "                raise ValueError\n",
    "        except ValueError:\n",
    "            print(\"FEJL: Terningens type skal være et postivt heltal\")\n",
    "            return None\n",
    "        self.value = None\n",
    "        self.locked = locked\n",
    "        self.ready = !self.locked  #Er klar, hvis den ikke er låst\n",
    "    \n",
    "    # Returnere nuværende værdi på terningen eller beskeden \"Ingen værdi - Terningen er ikke blevet slået endnu\"\n",
    "    def get_value(self):\n",
    "        if not None:\n",
    "            return self.value\n",
    "        else:\n",
    "            return \"Ingen værdi - Terningen er ikke blevet slået endnu\"\n",
    "\n",
    "    #Skifter terningens låst status og printer beskeden \"Terningen er nu: Låst/oplåst og klar!\"    \n",
    "    def switch_lock(self):\n",
    "        self.locked = not self.locked\n",
    "        self.ready =  not self.locked\n",
    "        print(f\"Terningen er nu: {'Låst' if self.locked else 'oplåst og klar!'}\")\n",
    "        \n",
    "    #returnere status på om terningen er låst\n",
    "    def is_locked(self):\n",
    "        return self.locked\n",
    "    \n",
    "    #Tager 1 argument n, og slår terningen n gange og returnere udfaldet på en letlæselig måde\n",
    "    def roll_dice_multi(self, n):\n",
    "        try:\n",
    "            n = int(n)\n",
    "            if n < 1:\n",
    "                raise ValueError\n",
    "            stats = [0]*self.type\n",
    "            for roll in range(n):\n",
    "                stats[randint(0,self.type-1)] += 1\n",
    "            dice_result = [f\"{i+1}: {stats[i]}\" for i in range(self.type)]\n",
    "            print(f\"Terningen er blevet kastet {n} gange og her er resultatet:\")\n",
    "            print('\\n'.join(dice_result))\n",
    "        except ValueError:\n",
    "            print(\"Input skal være en positiv integer\")\n",
    "\n",
    "\n",
    "    # Hvsi terningen ikke er låst, så slåes terningen 1 gang og tildeler værdien til self.value. \n",
    "    def roll_dice(self):\n",
    "        if not self.locked:\n",
    "            self.value = randint(1,self.type) #randint fra random modulet bruges til at genererer et tilfældigt nummer fra 1 til self.type(antal ansigter)\n",
    "            return self.value\n",
    "        else:\n",
    "            print(\"Terningen er desværre låst\")\n",
    "    \n",
    "    #returnere terning objektets attributes, hvis objektet printes\n",
    "    def __str__(self):\n",
    "        return f\"Terning med type: {self.type}\\nVærdi: {self.value}\\nStatus: {'låst' if self.locked else 'oplåst og klar!'}\"\n",
    "\n",
    "        \n",
    "    "
   ]
  },
  {
   "cell_type": "markdown",
   "id": "b3f294d2",
   "metadata": {},
   "source": [
    "### Test/Debug programmet\n"
   ]
  },
  {
   "cell_type": "code",
   "execution_count": null,
   "id": "20d0f77d",
   "metadata": {},
   "outputs": [],
   "source": [
    "dice = Dice(6)\n",
    "stadig_gyldig = Dice(\"6\")\n",
    "\n",
    "print(dice) # __str__ method\n",
    "print(stadig_gyldig) # __str__ method\n"
   ]
  },
  {
   "cell_type": "code",
   "execution_count": null,
   "id": "2fea942b",
   "metadata": {},
   "outputs": [],
   "source": [
    "#Dice Methods\n",
    "print(dice.is_locked()) # is_locked() method - viser status på lås\n",
    "print(dice.get_value()) #get_value() -> None da den ikke er slået\n",
    "print(dice.roll_dice()) #roll_dice() method, slår terningen 1 gang\n",
    "print(dice.get_value()) #get_value() -> nu ser vi den har fået værdien\n",
    "dice.switch_lock() # switch_lock() method - nu skifter vi lås status\n",
    "print(dice.is_locked()) # status igen på lås\n",
    "print(dice.roll_dice()) # Vi prøver at slå en låst terning"
   ]
  },
  {
   "cell_type": "code",
   "execution_count": null,
   "id": "d68320e0",
   "metadata": {},
   "outputs": [],
   "source": [
    "#ugyldige Terninger\n",
    "\n",
    "ugyldig = Dice(-5)\n",
    "ugyldig = Dice(\"-5\")\n",
    "ugyldig = Dice(\"HELLO\")\n",
    "ugyldig = Dice(0.1)"
   ]
  },
  {
   "cell_type": "code",
   "execution_count": null,
   "id": "c8d9b7b7",
   "metadata": {},
   "outputs": [],
   "source": [
    "# roll_dice_multi\n",
    "\n",
    "super_dice = Dice(12)\n",
    "\n",
    "super_dice.roll_dice_multi(10)\n",
    "super_dice.roll_dice_multi(\"10\") #String datatype men gyldig\n",
    "super_dice.roll_dice_multi(-200) # Minus tal - ikke gyldig\n",
    "super_dice.roll_dice_multi(\"HEJHEJ\") # ikke numerisk string - ikke gyldig\n"
   ]
  },
  {
   "cell_type": "markdown",
   "id": "f3aeb62b",
   "metadata": {},
   "source": [
    "### Vedligehold programmet\n",
    "\n",
    "1. Opret GUI til Dice menuen\n",
    "2. Placerer GUI & GUI logik i gui.py og import til main.py\n",
    "3. 2-player minigame, hvor du kan spille mod hinanden med samme terningen. (Der skal holdes styr på spillerne i logikken)\n",
    "4. Optimerer læsevenlighed af output i terminalen"
   ]
  },
  {
   "cell_type": "code",
   "execution_count": null,
   "id": "1ddef1fd",
   "metadata": {},
   "outputs": [],
   "source": []
  }
 ],
 "metadata": {
  "kernelspec": {
   "display_name": "Python 3",
   "language": "python",
   "name": "python3"
  },
  "language_info": {
   "codemirror_mode": {
    "name": "ipython",
    "version": 3
   },
   "file_extension": ".py",
   "mimetype": "text/x-python",
   "name": "python",
   "nbconvert_exporter": "python",
   "pygments_lexer": "ipython3",
   "version": "3.8.10"
  }
 },
 "nbformat": 4,
 "nbformat_minor": 5
}
