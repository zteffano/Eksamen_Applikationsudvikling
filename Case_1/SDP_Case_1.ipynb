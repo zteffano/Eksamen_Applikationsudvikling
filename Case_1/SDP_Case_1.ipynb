{
 "cells": [
  {
   "cell_type": "markdown",
   "id": "b0ea7041",
   "metadata": {},
   "source": [
    "# Software Development Process\n",
    "\n",
    "1. <b>Analysere problemet</b> - Find ud af præcist, hvilket problem, der skal løses.\n",
    "2. <b>Bestem specifikationer</b> - Beskriv præcist, hvad programmet skal gøre. Beskriv, hvad programmets input og output vil være, og hvordan de relaterer til hinanden.\n",
    "3. <b>Design struktur</b> - Formuler den overordnede struktur af programmet. Design algoritmen eller forretningslogikken.\n",
    "4. <b>Implementer designet</b> - Oversæt designet til et computersprog.\n",
    "5. <b>Test/Debug programmet</b> - Prøv programmet af og se, om det virker som forventet. Hvis der er fejl(bugs), skal disse rettes skal du \n",
    "6. <b>Vedligehold programmet</b> - Fortsæt udviklingen af programmet i forhold til dine brugeres behov."
   ]
  },
  {
   "cell_type": "markdown",
   "id": "d809a9f4",
   "metadata": {},
   "source": [
    "### 1. Analysere problemet\n",
    "Vi skal skrive et program der via. 3 heltal, kan returnere om længderne kan danne en trekant. Hvis ja viser programmet et GUI med en tegning af trekanten samt dens areal."
   ]
  },
  {
   "cell_type": "markdown",
   "id": "aa773134",
   "metadata": {},
   "source": [
    "### 2. Bestem specifikationer\n",
    "<b>Input -></b> Brugeren indtaster 3 tal(konverteres til heltal)<br>\n",
    "<b>Output -></b> Programmet viser om disse 3 heltal kan danne en trekant og hvis de kan returnere de en tegning af trekanten samt dennes areal\n"
   ]
  },
  {
   "cell_type": "markdown",
   "id": "b26a9cd5",
   "metadata": {},
   "source": [
    "### 3. Design struktur\n",
    "\n",
    "1. Opret en klasse kaldet Triangle\n",
    "2. Definere en konstruktor med 3 længder(self.a, self.b, self.c)\n",
    "3. Skriv en method is_triangle der tager de 3 heltal og returnere om der kan dannes en gyldig trekant (ikke gyldig hvis 1 længde er større en summen af de 2 andre - hvis summen er = de 2 andre, så det en \"degenereret\" trekant) \n",
    "4. Skriv en method der beder brugeren indtaste 3 længder, cast til integer(vi regner kun med heltal) og kalder is_triangle efterfølgende\n",
    "5. Skriv en method area, der udregnet trekantens areal(herons formel)\n",
    "6. Skriv en method der kan udregne punkt c via 3 længder og 2 punkter, til korrekt visning i GUI.(a,b,c + (0,0),(a,0)) \n",
    "6. Skriv en method der tegner trekanten og viser arealet i et GUI, ved hjælp af modulet graphics.py "
   ]
  },
  {
   "cell_type": "markdown",
   "id": "27963470",
   "metadata": {},
   "source": [
    "### 4. Implementer designet\n",
    "\n"
   ]
  },
  {
   "cell_type": "markdown",
   "id": "3bda3c87",
   "metadata": {},
   "source": [
    "#### - Triangle.py\n",
    "\n"
   ]
  },
  {
   "cell_type": "code",
   "execution_count": null,
   "id": "760e4e71",
   "metadata": {},
   "outputs": [],
   "source": [
    "## Triangle.py\n",
    "\n",
    "from graphics import *\n",
    "import math\n",
    "\n",
    "\n",
    "# 1. Opret en klasse kaldet Triangle\n",
    "\n",
    "class Triangle:\n",
    "\n",
    "    \"\"\"\n",
    "    Class Triangle - med 3 parametre side1, side2 og side3 -> triangle = Triangle(1,2,3)\n",
    "    input skal være et tal, ellers vil den raise en ValueError. Input bliver konverteret til int(heltal)\n",
    "    triangle.is_triangle method skal returnere True hvis trekanten er gyldig\n",
    "    triangle.area method returnere trekantens areal ud fra Heron's formel\n",
    "    \"\"\"\n",
    "\n",
    "\n",
    "    # Constructor - med 3 parametre side1, side2 og side3\n",
    "    def __init__(self, side1, side2, side3):\n",
    "        try:\n",
    "            self.a = int(side1)\n",
    "            self.b = int(side2)\n",
    "            self.c = int(side3)\n",
    "            self.normalizer = max(self.a, self.b, self.c) # normalizer bruges til at tegne trekanten i vinduet, uden at den bliver for stor\n",
    "        except:\n",
    "            raise ValueError(\"Input skal være et tal\")\n",
    "\n",
    "    # is_triangle method skal returnere True hvis trekanten er gyldig\n",
    "    def is_triangle(self):\n",
    "        check_length_1 = self.a <= self.b + self.c  # tjekker om l1 <= l2  + l3 -> gyldig\n",
    "        check_length_2 = self.b <= self.a + self.c  # tjekker om l2 <= l1  + l3 -> gyldig\n",
    "        check_length_3 = self.c <= self.a + self.b  # tjekker om l3 <= l1  + l2 -> gyldig\n",
    "\n",
    "        return \"JA\" if (check_length_1 and check_length_2 and check_length_3) else \"NEJ\"\n",
    "\n",
    "    # 5. Skriv en method area, der udregnet trekantens areal(herons formel)\n",
    "    def area(self):\n",
    "        # Heron's formel - https://en.wikipedia.org/wiki/Heron%27s_formula -> s = (a+b+c)/2 -> areal = sqrt(s*(s-a)*(s-b)*(s-c))\n",
    "\n",
    "        a, b, c = self.a, self.b, self.c\n",
    "        s = (a + b + c) / 2\n",
    "        return (s * (s - a) * (s - b) * (s - c)) ** 0.5\n",
    "\n",
    "    def __str__(self):\n",
    "        return f\"Triangle with sides {self.a}, {self.b}, {self.c}\"\n",
    "    \n",
    "    def find_third_point(self, x1, y1, x2, y2, a, b, c):\n",
    "        # Calculate distance between two known points\n",
    "        side_a = math.sqrt((x2 - x1)**2 + (y2 - y1)**2)\n",
    "        # Use Law of Cosines to find angle opposite side c\n",
    "        angle_C = math.acos((a**2 + b**2 - c**2) / (2 * a * b))\n",
    "        # Calculate coordinates of third point using angle and known point\n",
    "        x3 = round(x1 + (a * math.cos(angle_C)),2)\n",
    "        y3 = round(y1 + (a * math.sin(angle_C)),2)\n",
    "        return Point(x3, y3)\n",
    "\n",
    "    def draw(self):\n",
    "        size = self.normalizer\n",
    "        triangle_win = GraphWin(\"Trekant tester\", 500, 500)\n",
    "        triangle_win.setCoords(0, 0, size+5, size+5)\n",
    "        text1 = Text(Point(2+size//10, (size+2)-size//10), f\"\"\"\n",
    "        Trekantens længder: \n",
    "        a: {self.a}\n",
    "        b: {self.b}\n",
    "        c: {self.c}\n",
    "        ______________________\n",
    "        Areal: {round(self.area(),2)}\n",
    "        \"\"\")\n",
    "        text1.draw(triangle_win)\n",
    "\n",
    "        p1 = Point(2 ,2)\n",
    "        p2 = Point(self.a+2,2)\n",
    "        p3 = self.find_third_point(2,2,self.a+2,2,self.a,self.b,self.c)\n",
    "        #p3 = Point(self.b+2,self.c+2)\n",
    "        #a, b, c = Text(p1, \"x\"), Text(p2, \"x\"), Text(p3, \"x\")\n",
    "        #a.setStyle(\"bold\")\n",
    "        #b.setStyle(\"bold\")\n",
    "        #c.setStyle(\"bold\")\n",
    "        #a.draw(triangle_win)\n",
    "        #b.draw(triangle_win)\n",
    "        #c.draw(triangle_win)\n",
    "        triangle = Polygon(p1, p2, p3)\n",
    "        triangle.draw(triangle_win)"
   ]
  },
  {
   "cell_type": "markdown",
   "id": "cc0d0d8a",
   "metadata": {},
   "source": [
    "#### - main.py"
   ]
  },
  {
   "cell_type": "code",
   "execution_count": null,
   "id": "65559884",
   "metadata": {},
   "outputs": [],
   "source": [
    "# main.py\n",
    "\n",
    "# input felter\n",
    "\n",
    "from graphics import *\n",
    "\n",
    "\n",
    "def main_window():\n",
    "    win = GraphWin(\"Triangle\", 300, 200)\n",
    "    win.setCoords(0, 0, 20, 20)  # Sætter det som et alm. koordinatsystem , hvor (0,0) er i venstre nederste hjørne\n",
    "\n",
    "    # Overskrift\n",
    "    heading = Text(Point(10, 18), \"Indtast længderne på trekanten\")\n",
    "    heading.draw(win)\n",
    "    # info felt\n",
    "    info = Text(Point(10, 16), \"\")\n",
    "    info.draw(win)\n",
    "\n",
    "    # Input felter 1 til 3 med labels\n",
    "\n",
    "    # Input felt 1\n",
    "    text1 = Text(Point(5, 12), \"Side 1\")\n",
    "    input1 = Entry(Point(10, 12), 10)\n",
    "    input1.setFill(\"white\")\n",
    "    text1.draw(win)\n",
    "    input1.draw(win)\n",
    "\n",
    "    # Input felt 2\n",
    "    text2 = Text(Point(5, 9), \"Side 2\")\n",
    "    input2 = Entry(Point(10, 9), 10)\n",
    "    input2.setFill(\"white\")\n",
    "    text2.draw(win)\n",
    "    input2.draw(win)\n",
    "\n",
    "    # Input felt 3\n",
    "    text3 = Text(Point(5, 6), \"Side 3\")\n",
    "    input3 = Entry(Point(10, 6), 10)\n",
    "    input3.setFill(\"white\")\n",
    "    text3.draw(win)\n",
    "    input3.draw(win)\n",
    "\n",
    "    # Submit button\n",
    "    submit_btn = Rectangle(Point(4, 2), Point(16, 4))\n",
    "    submit_btn.draw(win)\n",
    "    submit_label = Text(Point(10, 3), \"Test Trekant\")\n",
    "    submit_label.draw(win)\n",
    "\n",
    "    while True:\n",
    "\n",
    "        click = win.getMouse()\n",
    "        if 4 <= click.getX() <= 16 and 2 <= click.getY() <= 4:\n",
    "            print(\"Du har trykket på knappen\")\n",
    "            triangle = Triangle(input1.getText(), input2.getText(), input3.getText())\n",
    "            if triangle.is_triangle() == \"JA\":\n",
    "                triangle.draw()\n",
    "            else:\n",
    "                info.setTextColor(\"red\")\n",
    "                info.setText(\"Ugyldig!\")\n",
    "\n",
    "\n",
    "\n",
    "\n",
    "\n",
    "\n",
    "if __name__ == \"__main__\":\n",
    "    pass\n",
    "    #main_window()\n"
   ]
  },
  {
   "cell_type": "markdown",
   "id": "b3f294d2",
   "metadata": {},
   "source": [
    "### Test/Debug programmet\n"
   ]
  },
  {
   "cell_type": "code",
   "execution_count": null,
   "id": "20d0f77d",
   "metadata": {},
   "outputs": [],
   "source": [
    "main_window()"
   ]
  },
  {
   "cell_type": "markdown",
   "id": "f3aeb62b",
   "metadata": {},
   "source": [
    "### Vedligehold programmet\n",
    "\n",
    "1. Implementerer a, b, c visuelt på trekanten i vores GUI\n",
    "2. Slå input og visning af Trekant sammen, så det hele forgår i samme vindue\n",
    "3. Gør det muligt at rense og tilføj ny trekant uden at skulle lukke vinduet\n",
    "4. Tilføj størrelse perspektiv i GUI\n",
    "5. Tilføj vinkler og punkt information"
   ]
  },
  {
   "cell_type": "code",
   "execution_count": null,
   "id": "1ddef1fd",
   "metadata": {},
   "outputs": [],
   "source": []
  }
 ],
 "metadata": {
  "kernelspec": {
   "display_name": "Python 3 (ipykernel)",
   "language": "python",
   "name": "python3"
  },
  "language_info": {
   "codemirror_mode": {
    "name": "ipython",
    "version": 3
   },
   "file_extension": ".py",
   "mimetype": "text/x-python",
   "name": "python",
   "nbconvert_exporter": "python",
   "pygments_lexer": "ipython3",
   "version": "3.9.12"
  }
 },
 "nbformat": 4,
 "nbformat_minor": 5
}
